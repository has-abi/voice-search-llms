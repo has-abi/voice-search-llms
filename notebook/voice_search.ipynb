{
 "nbformat": 4,
 "nbformat_minor": 0,
 "metadata": {
  "colab": {
   "provenance": []
  },
  "kernelspec": {
   "name": "python3",
   "display_name": "Python 3"
  },
  "language_info": {
   "name": "python"
  }
 },
 "cells": [
  {
   "cell_type": "markdown",
   "source": [
    "### 1. Setup"
   ],
   "metadata": {
    "id": "T87ZXhhb8QaH"
   }
  },
  {
   "cell_type": "code",
   "execution_count": 15,
   "metadata": {
    "id": "nojUWcNjOSTH"
   },
   "outputs": [],
   "source": [
    "%%capture\n",
    "!pip install langchain-openai\n",
    "!pip install python-dotenv"
   ]
  },
  {
   "cell_type": "markdown",
   "source": [
    "### 2. Imports"
   ],
   "metadata": {
    "id": "pi278zJ38VrN"
   }
  },
  {
   "cell_type": "code",
   "source": [
    "from typing import Optional\n",
    "import json\n",
    "import sys\n",
    "import requests\n",
    "\n",
    "from dotenv import load_dotenv, find_dotenv\n",
    "import pandas as pd\n",
    "from langchain_openai import ChatOpenAI\n",
    "from langchain_core.output_parsers import PydanticOutputParser\n",
    "from langchain_core.prompts import ChatPromptTemplate\n",
    "from pydantic import BaseModel, Field\n"
   ],
   "metadata": {
    "id": "sCTOyyO9Om_4"
   },
   "execution_count": 17,
   "outputs": []
  },
  {
   "cell_type": "code",
   "source": [
    "# Env variable\n",
    "sys.path.append('../')\n",
    "load_dotenv(find_dotenv())"
   ],
   "metadata": {
    "colab": {
     "base_uri": "https://localhost:8080/"
    },
    "id": "tzflWXhe_aqN",
    "outputId": "aa372ea7-0af4-4e13-8586-8994aae00a09"
   },
   "execution_count": 18,
   "outputs": [
    {
     "output_type": "execute_result",
     "data": {
      "text/plain": [
       "True"
      ]
     },
     "metadata": {},
     "execution_count": 18
    }
   ]
  },
  {
   "cell_type": "markdown",
   "source": [
    "### 3. Load profiles db"
   ],
   "metadata": {
    "id": "TUrwKFXX8mM9"
   }
  },
  {
   "cell_type": "code",
   "source": [
    "def load_profiles():\n",
    "  with open(\"data/profiles.json\", \"r\", encoding=\"utf-8\") as f:\n",
    "    return json.load(f)"
   ],
   "metadata": {
    "id": "YDLjeWnB83Y_"
   },
   "execution_count": 31,
   "outputs": []
  },
  {
   "cell_type": "code",
   "source": [
    "profiles = load_profiles()\n",
    "profiles_pd = pd.DataFrame.from_dict(profiles)"
   ],
   "metadata": {
    "id": "RGou0EG59Hpn"
   },
   "execution_count": 32,
   "outputs": []
  },
  {
   "cell_type": "code",
   "source": [
    "profiles_pd.head()"
   ],
   "metadata": {
    "colab": {
     "base_uri": "https://localhost:8080/",
     "height": 206
    },
    "id": "e-sTUGov9XZY",
    "outputId": "b5858a65-21a8-4bb1-9093-86f48c445a79"
   },
   "execution_count": 33,
   "outputs": [
    {
     "output_type": "execute_result",
     "data": {
      "text/plain": [
       "  id       full_name                   title    location  \\\n",
       "0  1   Mohamed Smith        Consultant Cloud       Rabat   \n",
       "1  2  Fatima Ben Ali  Développeur JavaScript  Casablanca   \n",
       "2  3    Kamal Martin         Expert Frontend  Casablanca   \n",
       "3  4  David El Fassi          Ingénieur Data  Casablanca   \n",
       "4  5     John Lahmar         Développeur PHP  Casablanca   \n",
       "\n",
       "       spoken_languages                          skills  experience_in_years  \\\n",
       "0      [Anglais, Arabe]         [Python, SQL, BigQuery]                    5   \n",
       "1  [Espagnol, Français]  [JavaScript, React, Bootstrap]                    5   \n",
       "2             [Anglais]    [Angular, JavaScript, Figma]                    8   \n",
       "3   [Anglais, Français]   [Python, Java, SQL, BigQuery]                    3   \n",
       "4             [Anglais]         [PHP, Laravel, Angular]                    2   \n",
       "\n",
       "  level_of_study  \n",
       "0         Bac +5  \n",
       "1         Bac +5  \n",
       "2       Doctorat  \n",
       "3         Bac +5  \n",
       "4         Bac +3  "
      ],
      "text/html": [
       "\n",
       "  <div id=\"df-4ee527aa-4639-47be-af67-f016f1592f0d\" class=\"colab-df-container\">\n",
       "    <div>\n",
       "<style scoped>\n",
       "    .dataframe tbody tr th:only-of-type {\n",
       "        vertical-align: middle;\n",
       "    }\n",
       "\n",
       "    .dataframe tbody tr th {\n",
       "        vertical-align: top;\n",
       "    }\n",
       "\n",
       "    .dataframe thead th {\n",
       "        text-align: right;\n",
       "    }\n",
       "</style>\n",
       "<table border=\"1\" class=\"dataframe\">\n",
       "  <thead>\n",
       "    <tr style=\"text-align: right;\">\n",
       "      <th></th>\n",
       "      <th>id</th>\n",
       "      <th>full_name</th>\n",
       "      <th>title</th>\n",
       "      <th>location</th>\n",
       "      <th>spoken_languages</th>\n",
       "      <th>skills</th>\n",
       "      <th>experience_in_years</th>\n",
       "      <th>level_of_study</th>\n",
       "    </tr>\n",
       "  </thead>\n",
       "  <tbody>\n",
       "    <tr>\n",
       "      <th>0</th>\n",
       "      <td>1</td>\n",
       "      <td>Mohamed Smith</td>\n",
       "      <td>Consultant Cloud</td>\n",
       "      <td>Rabat</td>\n",
       "      <td>[Anglais, Arabe]</td>\n",
       "      <td>[Python, SQL, BigQuery]</td>\n",
       "      <td>5</td>\n",
       "      <td>Bac +5</td>\n",
       "    </tr>\n",
       "    <tr>\n",
       "      <th>1</th>\n",
       "      <td>2</td>\n",
       "      <td>Fatima Ben Ali</td>\n",
       "      <td>Développeur JavaScript</td>\n",
       "      <td>Casablanca</td>\n",
       "      <td>[Espagnol, Français]</td>\n",
       "      <td>[JavaScript, React, Bootstrap]</td>\n",
       "      <td>5</td>\n",
       "      <td>Bac +5</td>\n",
       "    </tr>\n",
       "    <tr>\n",
       "      <th>2</th>\n",
       "      <td>3</td>\n",
       "      <td>Kamal Martin</td>\n",
       "      <td>Expert Frontend</td>\n",
       "      <td>Casablanca</td>\n",
       "      <td>[Anglais]</td>\n",
       "      <td>[Angular, JavaScript, Figma]</td>\n",
       "      <td>8</td>\n",
       "      <td>Doctorat</td>\n",
       "    </tr>\n",
       "    <tr>\n",
       "      <th>3</th>\n",
       "      <td>4</td>\n",
       "      <td>David El Fassi</td>\n",
       "      <td>Ingénieur Data</td>\n",
       "      <td>Casablanca</td>\n",
       "      <td>[Anglais, Français]</td>\n",
       "      <td>[Python, Java, SQL, BigQuery]</td>\n",
       "      <td>3</td>\n",
       "      <td>Bac +5</td>\n",
       "    </tr>\n",
       "    <tr>\n",
       "      <th>4</th>\n",
       "      <td>5</td>\n",
       "      <td>John Lahmar</td>\n",
       "      <td>Développeur PHP</td>\n",
       "      <td>Casablanca</td>\n",
       "      <td>[Anglais]</td>\n",
       "      <td>[PHP, Laravel, Angular]</td>\n",
       "      <td>2</td>\n",
       "      <td>Bac +3</td>\n",
       "    </tr>\n",
       "  </tbody>\n",
       "</table>\n",
       "</div>\n",
       "    <div class=\"colab-df-buttons\">\n",
       "\n",
       "  <div class=\"colab-df-container\">\n",
       "    <button class=\"colab-df-convert\" onclick=\"convertToInteractive('df-4ee527aa-4639-47be-af67-f016f1592f0d')\"\n",
       "            title=\"Convert this dataframe to an interactive table.\"\n",
       "            style=\"display:none;\">\n",
       "\n",
       "  <svg xmlns=\"http://www.w3.org/2000/svg\" height=\"24px\" viewBox=\"0 -960 960 960\">\n",
       "    <path d=\"M120-120v-720h720v720H120Zm60-500h600v-160H180v160Zm220 220h160v-160H400v160Zm0 220h160v-160H400v160ZM180-400h160v-160H180v160Zm440 0h160v-160H620v160ZM180-180h160v-160H180v160Zm440 0h160v-160H620v160Z\"/>\n",
       "  </svg>\n",
       "    </button>\n",
       "\n",
       "  <style>\n",
       "    .colab-df-container {\n",
       "      display:flex;\n",
       "      gap: 12px;\n",
       "    }\n",
       "\n",
       "    .colab-df-convert {\n",
       "      background-color: #E8F0FE;\n",
       "      border: none;\n",
       "      border-radius: 50%;\n",
       "      cursor: pointer;\n",
       "      display: none;\n",
       "      fill: #1967D2;\n",
       "      height: 32px;\n",
       "      padding: 0 0 0 0;\n",
       "      width: 32px;\n",
       "    }\n",
       "\n",
       "    .colab-df-convert:hover {\n",
       "      background-color: #E2EBFA;\n",
       "      box-shadow: 0px 1px 2px rgba(60, 64, 67, 0.3), 0px 1px 3px 1px rgba(60, 64, 67, 0.15);\n",
       "      fill: #174EA6;\n",
       "    }\n",
       "\n",
       "    .colab-df-buttons div {\n",
       "      margin-bottom: 4px;\n",
       "    }\n",
       "\n",
       "    [theme=dark] .colab-df-convert {\n",
       "      background-color: #3B4455;\n",
       "      fill: #D2E3FC;\n",
       "    }\n",
       "\n",
       "    [theme=dark] .colab-df-convert:hover {\n",
       "      background-color: #434B5C;\n",
       "      box-shadow: 0px 1px 3px 1px rgba(0, 0, 0, 0.15);\n",
       "      filter: drop-shadow(0px 1px 2px rgba(0, 0, 0, 0.3));\n",
       "      fill: #FFFFFF;\n",
       "    }\n",
       "  </style>\n",
       "\n",
       "    <script>\n",
       "      const buttonEl =\n",
       "        document.querySelector('#df-4ee527aa-4639-47be-af67-f016f1592f0d button.colab-df-convert');\n",
       "      buttonEl.style.display =\n",
       "        google.colab.kernel.accessAllowed ? 'block' : 'none';\n",
       "\n",
       "      async function convertToInteractive(key) {\n",
       "        const element = document.querySelector('#df-4ee527aa-4639-47be-af67-f016f1592f0d');\n",
       "        const dataTable =\n",
       "          await google.colab.kernel.invokeFunction('convertToInteractive',\n",
       "                                                    [key], {});\n",
       "        if (!dataTable) return;\n",
       "\n",
       "        const docLinkHtml = 'Like what you see? Visit the ' +\n",
       "          '<a target=\"_blank\" href=https://colab.research.google.com/notebooks/data_table.ipynb>data table notebook</a>'\n",
       "          + ' to learn more about interactive tables.';\n",
       "        element.innerHTML = '';\n",
       "        dataTable['output_type'] = 'display_data';\n",
       "        await google.colab.output.renderOutput(dataTable, element);\n",
       "        const docLink = document.createElement('div');\n",
       "        docLink.innerHTML = docLinkHtml;\n",
       "        element.appendChild(docLink);\n",
       "      }\n",
       "    </script>\n",
       "  </div>\n",
       "\n",
       "\n",
       "<div id=\"df-25d1249e-7bc8-4444-8f47-8ed27fc1ef12\">\n",
       "  <button class=\"colab-df-quickchart\" onclick=\"quickchart('df-25d1249e-7bc8-4444-8f47-8ed27fc1ef12')\"\n",
       "            title=\"Suggest charts\"\n",
       "            style=\"display:none;\">\n",
       "\n",
       "<svg xmlns=\"http://www.w3.org/2000/svg\" height=\"24px\"viewBox=\"0 0 24 24\"\n",
       "     width=\"24px\">\n",
       "    <g>\n",
       "        <path d=\"M19 3H5c-1.1 0-2 .9-2 2v14c0 1.1.9 2 2 2h14c1.1 0 2-.9 2-2V5c0-1.1-.9-2-2-2zM9 17H7v-7h2v7zm4 0h-2V7h2v10zm4 0h-2v-4h2v4z\"/>\n",
       "    </g>\n",
       "</svg>\n",
       "  </button>\n",
       "\n",
       "<style>\n",
       "  .colab-df-quickchart {\n",
       "      --bg-color: #E8F0FE;\n",
       "      --fill-color: #1967D2;\n",
       "      --hover-bg-color: #E2EBFA;\n",
       "      --hover-fill-color: #174EA6;\n",
       "      --disabled-fill-color: #AAA;\n",
       "      --disabled-bg-color: #DDD;\n",
       "  }\n",
       "\n",
       "  [theme=dark] .colab-df-quickchart {\n",
       "      --bg-color: #3B4455;\n",
       "      --fill-color: #D2E3FC;\n",
       "      --hover-bg-color: #434B5C;\n",
       "      --hover-fill-color: #FFFFFF;\n",
       "      --disabled-bg-color: #3B4455;\n",
       "      --disabled-fill-color: #666;\n",
       "  }\n",
       "\n",
       "  .colab-df-quickchart {\n",
       "    background-color: var(--bg-color);\n",
       "    border: none;\n",
       "    border-radius: 50%;\n",
       "    cursor: pointer;\n",
       "    display: none;\n",
       "    fill: var(--fill-color);\n",
       "    height: 32px;\n",
       "    padding: 0;\n",
       "    width: 32px;\n",
       "  }\n",
       "\n",
       "  .colab-df-quickchart:hover {\n",
       "    background-color: var(--hover-bg-color);\n",
       "    box-shadow: 0 1px 2px rgba(60, 64, 67, 0.3), 0 1px 3px 1px rgba(60, 64, 67, 0.15);\n",
       "    fill: var(--button-hover-fill-color);\n",
       "  }\n",
       "\n",
       "  .colab-df-quickchart-complete:disabled,\n",
       "  .colab-df-quickchart-complete:disabled:hover {\n",
       "    background-color: var(--disabled-bg-color);\n",
       "    fill: var(--disabled-fill-color);\n",
       "    box-shadow: none;\n",
       "  }\n",
       "\n",
       "  .colab-df-spinner {\n",
       "    border: 2px solid var(--fill-color);\n",
       "    border-color: transparent;\n",
       "    border-bottom-color: var(--fill-color);\n",
       "    animation:\n",
       "      spin 1s steps(1) infinite;\n",
       "  }\n",
       "\n",
       "  @keyframes spin {\n",
       "    0% {\n",
       "      border-color: transparent;\n",
       "      border-bottom-color: var(--fill-color);\n",
       "      border-left-color: var(--fill-color);\n",
       "    }\n",
       "    20% {\n",
       "      border-color: transparent;\n",
       "      border-left-color: var(--fill-color);\n",
       "      border-top-color: var(--fill-color);\n",
       "    }\n",
       "    30% {\n",
       "      border-color: transparent;\n",
       "      border-left-color: var(--fill-color);\n",
       "      border-top-color: var(--fill-color);\n",
       "      border-right-color: var(--fill-color);\n",
       "    }\n",
       "    40% {\n",
       "      border-color: transparent;\n",
       "      border-right-color: var(--fill-color);\n",
       "      border-top-color: var(--fill-color);\n",
       "    }\n",
       "    60% {\n",
       "      border-color: transparent;\n",
       "      border-right-color: var(--fill-color);\n",
       "    }\n",
       "    80% {\n",
       "      border-color: transparent;\n",
       "      border-right-color: var(--fill-color);\n",
       "      border-bottom-color: var(--fill-color);\n",
       "    }\n",
       "    90% {\n",
       "      border-color: transparent;\n",
       "      border-bottom-color: var(--fill-color);\n",
       "    }\n",
       "  }\n",
       "</style>\n",
       "\n",
       "  <script>\n",
       "    async function quickchart(key) {\n",
       "      const quickchartButtonEl =\n",
       "        document.querySelector('#' + key + ' button');\n",
       "      quickchartButtonEl.disabled = true;  // To prevent multiple clicks.\n",
       "      quickchartButtonEl.classList.add('colab-df-spinner');\n",
       "      try {\n",
       "        const charts = await google.colab.kernel.invokeFunction(\n",
       "            'suggestCharts', [key], {});\n",
       "      } catch (error) {\n",
       "        console.error('Error during call to suggestCharts:', error);\n",
       "      }\n",
       "      quickchartButtonEl.classList.remove('colab-df-spinner');\n",
       "      quickchartButtonEl.classList.add('colab-df-quickchart-complete');\n",
       "    }\n",
       "    (() => {\n",
       "      let quickchartButtonEl =\n",
       "        document.querySelector('#df-25d1249e-7bc8-4444-8f47-8ed27fc1ef12 button');\n",
       "      quickchartButtonEl.style.display =\n",
       "        google.colab.kernel.accessAllowed ? 'block' : 'none';\n",
       "    })();\n",
       "  </script>\n",
       "</div>\n",
       "\n",
       "    </div>\n",
       "  </div>\n"
      ],
      "application/vnd.google.colaboratory.intrinsic+json": {
       "type": "dataframe",
       "variable_name": "profiles_pd",
       "summary": "{\n  \"name\": \"profiles_pd\",\n  \"rows\": 20,\n  \"fields\": [\n    {\n      \"column\": \"id\",\n      \"properties\": {\n        \"dtype\": \"string\",\n        \"num_unique_values\": 20,\n        \"samples\": [\n          \"1\",\n          \"18\",\n          \"16\"\n        ],\n        \"semantic_type\": \"\",\n        \"description\": \"\"\n      }\n    },\n    {\n      \"column\": \"full_name\",\n      \"properties\": {\n        \"dtype\": \"string\",\n        \"num_unique_values\": 17,\n        \"samples\": [\n          \"Mohamed Smith\",\n          \"Fatima Ben Ali\",\n          \"Alice Ben Ali\"\n        ],\n        \"semantic_type\": \"\",\n        \"description\": \"\"\n      }\n    },\n    {\n      \"column\": \"title\",\n      \"properties\": {\n        \"dtype\": \"string\",\n        \"num_unique_values\": 15,\n        \"samples\": [\n          \"UI/UX Designer\",\n          \"Data Analyst\",\n          \"Consultant Cloud\"\n        ],\n        \"semantic_type\": \"\",\n        \"description\": \"\"\n      }\n    },\n    {\n      \"column\": \"location\",\n      \"properties\": {\n        \"dtype\": \"category\",\n        \"num_unique_values\": 4,\n        \"samples\": [\n          \"Casablanca\",\n          \"Tanger\",\n          \"Rabat\"\n        ],\n        \"semantic_type\": \"\",\n        \"description\": \"\"\n      }\n    },\n    {\n      \"column\": \"spoken_languages\",\n      \"properties\": {\n        \"dtype\": \"object\",\n        \"semantic_type\": \"\",\n        \"description\": \"\"\n      }\n    },\n    {\n      \"column\": \"skills\",\n      \"properties\": {\n        \"dtype\": \"object\",\n        \"semantic_type\": \"\",\n        \"description\": \"\"\n      }\n    },\n    {\n      \"column\": \"experience_in_years\",\n      \"properties\": {\n        \"dtype\": \"number\",\n        \"std\": 2,\n        \"min\": 1,\n        \"max\": 9,\n        \"num_unique_values\": 9,\n        \"samples\": [\n          7,\n          8,\n          4\n        ],\n        \"semantic_type\": \"\",\n        \"description\": \"\"\n      }\n    },\n    {\n      \"column\": \"level_of_study\",\n      \"properties\": {\n        \"dtype\": \"category\",\n        \"num_unique_values\": 5,\n        \"samples\": [\n          \"Doctorat\",\n          \"Bac +2\",\n          \"Bac +3\"\n        ],\n        \"semantic_type\": \"\",\n        \"description\": \"\"\n      }\n    }\n  ]\n}"
      }
     },
     "metadata": {},
     "execution_count": 33
    }
   ]
  },
  {
   "cell_type": "markdown",
   "source": [
    "### 4. Define Search Query"
   ],
   "metadata": {
    "id": "M2lA8sOf9zGF"
   }
  },
  {
   "cell_type": "code",
   "source": [
    "class Experience(BaseModel):\n",
    "    \"\"\"Expérience requise\"\"\"\n",
    "    min: Optional[int] = Field(default=None, description=\"Minimum d'expérience en années.\")\n",
    "    max: Optional[int] = Field(default=None, description=\"Maximum d'expérience en années.\")"
   ],
   "metadata": {
    "id": "KYFzG3vR9vo1"
   },
   "execution_count": 11,
   "outputs": []
  },
  {
   "cell_type": "code",
   "source": [
    "class SearchQuery(BaseModel):\n",
    "    \"\"\"La requête de recherche\"\"\"\n",
    "    localisation: Optional[str] = Field(default=None, description=\"Localisation souhaitée.\")\n",
    "    niveau_etudes: Optional[str] = Field(default=None, description=\"Niveau d'étude souhaité.\")\n",
    "    experience: Optional[Experience] = Field(default=None, description=\"Expérience souhaité.\")\n",
    "    competences: Optional[list[str]] = Field(default=[], description=\"Compétences requises.\")\n",
    "    langues_parlees: Optional[list[str]] = Field(default=[], description=\"Langues parlées requises.\")"
   ],
   "metadata": {
    "id": "7jR7hjaS-uY9"
   },
   "execution_count": 12,
   "outputs": []
  },
  {
   "cell_type": "markdown",
   "source": [
    "### 5. Build Search with pandas"
   ],
   "metadata": {
    "id": "328Djwma9gc3"
   }
  },
  {
   "cell_type": "code",
   "source": [
    "class PandasSearch:\n",
    "    def __init__(self, df: pd.DataFrame):\n",
    "        self.df = df\n",
    "\n",
    "    def search(self, search_query: SearchQuery) -> pd.DataFrame:\n",
    "        filtered_df = self.df.copy()\n",
    "        if search_query.localisation:\n",
    "            filtered_df = self._filter_by_value(filtered_df, \"location\", search_query.localisation)\n",
    "        if search_query.niveau_etudes:\n",
    "            filtered_df = self._filter_by_value(filtered_df, \"level_of_study\", search_query.niveau_etudes)\n",
    "        if search_query.experience:\n",
    "            range_values = [search_query.experience.min, search_query.experience.max]\n",
    "            filtered_df = self._filter_by_range(filtered_df, \"experience_in_years\", range_values)\n",
    "        if search_query.competences:\n",
    "            filtered_df = self._filter_by_list(filtered_df, \"skills\", search_query.competences)\n",
    "        if search_query.langues_parlees:\n",
    "            filtered_df = self._filter_by_list(filtered_df, \"spoken_languages\", search_query.langues_parlees)\n",
    "        return filtered_df\n",
    "\n",
    "    @staticmethod\n",
    "    def _filter_by_value(df: pd.DataFrame, column: str, value: str | int | float) -> pd.DataFrame:\n",
    "        return df[df[column].apply(lambda val: str(val).lower() == str(value).lower())]\n",
    "\n",
    "    @staticmethod\n",
    "    def _filter_by_list(df: pd.DataFrame, column: str, items: list[any]) -> pd.DataFrame:\n",
    "        if items:\n",
    "            return df[df[column].apply(lambda x: bool(set(items) <= set(x)))]\n",
    "        return df\n",
    "\n",
    "    @staticmethod\n",
    "    def _filter_by_range(df: pd.DataFrame, column: str, range_values: list[int]) -> pd.DataFrame:\n",
    "        if not range_values:\n",
    "            raise ValueError(\"range_values should not be None or empty\")\n",
    "        if len(range_values) != 2:\n",
    "            raise ValueError(\"range_values should contain 2 values a min and a max\")\n",
    "\n",
    "        min_value, max_value = range_values\n",
    "        if min_value is None and max_value is None:\n",
    "            return df\n",
    "\n",
    "        if min_value is None:\n",
    "            return df[df[column].apply(lambda val: val <= max_value)]\n",
    "        elif max_value is None:\n",
    "            return df[df[column].apply(lambda val: val >= min_value)]\n",
    "        else:\n",
    "            return df[df[column].apply(lambda val: (min_value <= val <= max_value))]\n"
   ],
   "metadata": {
    "id": "pz8KZhmw9o_9"
   },
   "execution_count": 10,
   "outputs": []
  },
  {
   "cell_type": "markdown",
   "source": [
    "### 6. Transcription"
   ],
   "metadata": {
    "id": "8tk9QbJE-iZO"
   }
  },
  {
   "cell_type": "code",
   "source": [
    "TRANSCRIPTION_DATA = {\n",
    "  \"response_format\": \"json\",\n",
    "  \"language\": \"french\",\n",
    "  \"prompt\": (\"Ce transcript il s'agit d'une requête de recherche des profils IT contenant leurs compétences, \"\n",
    "              \"les langues, la disponibilité et le niveau d'étude. Les profils sont basés sur le Maroc.\")\n",
    "}"
   ],
   "metadata": {
    "id": "tMDAJycN-lA0"
   },
   "execution_count": 13,
   "outputs": []
  },
  {
   "cell_type": "code",
   "source": [
    "from config import TRANSCRIPTION_API_URL, TRANSCRIPTION_API_KEY\n",
    "\n",
    "class Transcribe:\n",
    "    \"\"\"Transcription\"\"\"\n",
    "\n",
    "    @staticmethod\n",
    "    def transcribe(audio_file):\n",
    "        headers = {\n",
    "            \"Authorization\": f\"Bearer {TRANSCRIPTION_API_KEY}\"\n",
    "        }\n",
    "        files = {\n",
    "            \"file\": (\"test.wav\", audio_file, \"audio/wav\"),\n",
    "        }\n",
    "        return requests.post(TRANSCRIPTION_API_URL, headers=headers, data=TRANSCRIPTION_DATA, files=files)\n"
   ],
   "metadata": {
    "id": "AHx6KcKu_GA1"
   },
   "execution_count": 23,
   "outputs": []
  },
  {
   "cell_type": "code",
   "source": [
    "with open(\"audio_request.wav\", \"rb\") as audio_file:\n",
    "  transcription = Transcribe.transcribe(audio_file)"
   ],
   "metadata": {
    "id": "9e9tHcJEChdW"
   },
   "execution_count": 24,
   "outputs": []
  },
  {
   "cell_type": "code",
   "source": [
    "## Transcription\n",
    "search_query = transcription.json()[\"text\"]"
   ],
   "metadata": {
    "id": "oPkLJ-gVCwg8"
   },
   "execution_count": 26,
   "outputs": []
  },
  {
   "cell_type": "markdown",
   "source": [
    "### 7. Filters Extraction (Query Parsing)"
   ],
   "metadata": {
    "id": "FeQ0nxhPEiBl"
   }
  },
  {
   "cell_type": "code",
   "source": [
    "PARSING_MODEL = \"mistralai/Mixtral-8x7B-Instruct-v0.1\"\n",
    "PARSING_PARAMS = {\n",
    "    \"max_tokens\": 512,\n",
    "    \"temperature\": 0,\n",
    "}"
   ],
   "metadata": {
    "id": "HpWMKnE1EhQd"
   },
   "execution_count": 27,
   "outputs": []
  },
  {
   "cell_type": "code",
   "source": [
    "from config import PARSING_API_URL, PARSING_API_KEY\n",
    "\n",
    "class Parser:\n",
    "    \"\"\"Structurer la requête de recherche\"\"\"\n",
    "    def __init__(self):\n",
    "        self.llm = self._get_lmm()\n",
    "        self.parser = self._get_parser()\n",
    "        self.prompt = self._get_template().partial(schema=self.parser.get_format_instructions())\n",
    "        self.chain = self.prompt | self.llm | self.parser\n",
    "\n",
    "    def parse(self, query: str) -> SearchQuery:\n",
    "        return self.chain.invoke({\"text\": query})\n",
    "\n",
    "    @staticmethod\n",
    "    def _get_lmm() -> ChatOpenAI:\n",
    "        return ChatOpenAI(\n",
    "            base_url=PARSING_API_URL,\n",
    "            api_key=PARSING_API_KEY,\n",
    "            model=PARSING_MODEL,\n",
    "            max_tokens=PARSING_PARAMS[\"max_tokens\"],\n",
    "            temperature=PARSING_PARAMS[\"temperature\"],\n",
    "        )\n",
    "\n",
    "    @staticmethod\n",
    "    def _get_template() -> ChatPromptTemplate:\n",
    "        return ChatPromptTemplate.from_messages(\n",
    "            [\n",
    "                (\n",
    "                    \"system\",\n",
    "                    \"Analyser et extraire les informations pertinentes de la requête de recherche suivante et les structurer selon le schéma ci-dessous en format JSON :\\n\"\n",
    "                    \"`json\\n{schema}\\n`\\n\"\n",
    "                    \"Instructions :\\n\"\n",
    "                    \"- Niveau d'études : Déterminer le niveau d'éducation (ex. : 'Licence', 'Master', 'Doctorat').\\n\"\n",
    "                    \"- Expérience : Extraire les années d’expérience minimum et maximum. Si la forme de plus X ans \"\n",
    "                    \"est utilisée remplacer mettez la valeur X dans le min et le max null. Le contraire pour la form de moins X ans.\\n\"\n",
    "                    \"- Compétences : Identifier les compétences techniques et comportementales (ex. : 'Python', 'gestion de projet').\\n\"\n",
    "                    \"- Langues parlées : Extraire les langues parlées mentionnées dans la requête (ex. : 'Anglais', 'Français', 'Allemand').\\n\"\n",
    "                    \"- Répondez avec la sortie structurée selon le schéma donné sans explications.\\n\"\n",
    "                    \"- N'ajoutez pas de \\ aux champs du schéma de sortie comme langues\\_parlees il faut préserver le format langues_parlees.\\n\"\n",
    "                    \"- Répondez sans explications.\"\n",
    "                ),\n",
    "                (\"human\", \"{text}\"),\n",
    "            ]\n",
    "        )\n",
    "\n",
    "    @staticmethod\n",
    "    def _get_parser() -> PydanticOutputParser:\n",
    "        return PydanticOutputParser(pydantic_object=SearchQuery)"
   ],
   "metadata": {
    "id": "BeKJe_SYNpgM"
   },
   "execution_count": 28,
   "outputs": []
  },
  {
   "cell_type": "code",
   "source": [
    "parsed_filters = Parser().parse(search_query)"
   ],
   "metadata": {
    "id": "Ta6ut010FW4v"
   },
   "execution_count": 29,
   "outputs": []
  },
  {
   "cell_type": "code",
   "source": [
    "parsed_filters"
   ],
   "metadata": {
    "colab": {
     "base_uri": "https://localhost:8080/"
    },
    "id": "YvdbqNzYFcOe",
    "outputId": "dc4eb6d8-08e8-436c-c145-9d8af88b3999"
   },
   "execution_count": 30,
   "outputs": [
    {
     "output_type": "execute_result",
     "data": {
      "text/plain": [
       "SearchQuery(localisation='Casablanca', niveau_etudes='bac plus 5', experience=Experience(min=3, max=5), competences=['Java', 'Python'], langues_parlees=['Anglais'])"
      ]
     },
     "metadata": {},
     "execution_count": 30
    }
   ]
  },
  {
   "cell_type": "markdown",
   "source": [
    "### 8. Apply parsed filters on profiles db"
   ],
   "metadata": {
    "id": "ohLgUQ3sHJbU"
   }
  },
  {
   "cell_type": "code",
   "source": [
    "## Map bac plus 5 to Bac +5\n",
    "LEVEL_OF_STUDY_MAPPING = {\n",
    "    \"Bac plus 5\": \"Bac +5\",\n",
    "    \"Bac plus 3\": \"Bac +3\"\n",
    "}\n",
    "\n",
    "parsed_filters.niveau_etudes = LEVEL_OF_STUDY_MAPPING[parsed_filters.niveau_etudes.capitalize()]"
   ],
   "metadata": {
    "id": "RmuxtAv5HZ99"
   },
   "execution_count": 38,
   "outputs": []
  },
  {
   "cell_type": "code",
   "source": [
    "parsed_filters"
   ],
   "metadata": {
    "colab": {
     "base_uri": "https://localhost:8080/"
    },
    "id": "kVzQUSVOH7y9",
    "outputId": "d551cac9-2103-4ff1-8b2b-85991503adf9"
   },
   "execution_count": 39,
   "outputs": [
    {
     "output_type": "execute_result",
     "data": {
      "text/plain": [
       "SearchQuery(localisation='Casablanca', niveau_etudes='Bac +5', experience=Experience(min=3, max=5), competences=['Java', 'Python'], langues_parlees=['Anglais'])"
      ]
     },
     "metadata": {},
     "execution_count": 39
    }
   ]
  },
  {
   "cell_type": "code",
   "source": [
    "PandasSearch(profiles_pd).search(parsed_filters)"
   ],
   "metadata": {
    "colab": {
     "base_uri": "https://localhost:8080/",
     "height": 81
    },
    "id": "uMsR4jo1HIql",
    "outputId": "d2535252-2da7-4cee-e98e-f03237971029"
   },
   "execution_count": 40,
   "outputs": [
    {
     "output_type": "execute_result",
     "data": {
      "text/plain": [
       "  id       full_name           title    location     spoken_languages  \\\n",
       "3  4  David El Fassi  Ingénieur Data  Casablanca  [Anglais, Français]   \n",
       "\n",
       "                          skills  experience_in_years level_of_study  \n",
       "3  [Python, Java, SQL, BigQuery]                    3         Bac +5  "
      ],
      "text/html": [
       "\n",
       "  <div id=\"df-4021fc4a-06ea-4a1c-aa03-d9d453269f80\" class=\"colab-df-container\">\n",
       "    <div>\n",
       "<style scoped>\n",
       "    .dataframe tbody tr th:only-of-type {\n",
       "        vertical-align: middle;\n",
       "    }\n",
       "\n",
       "    .dataframe tbody tr th {\n",
       "        vertical-align: top;\n",
       "    }\n",
       "\n",
       "    .dataframe thead th {\n",
       "        text-align: right;\n",
       "    }\n",
       "</style>\n",
       "<table border=\"1\" class=\"dataframe\">\n",
       "  <thead>\n",
       "    <tr style=\"text-align: right;\">\n",
       "      <th></th>\n",
       "      <th>id</th>\n",
       "      <th>full_name</th>\n",
       "      <th>title</th>\n",
       "      <th>location</th>\n",
       "      <th>spoken_languages</th>\n",
       "      <th>skills</th>\n",
       "      <th>experience_in_years</th>\n",
       "      <th>level_of_study</th>\n",
       "    </tr>\n",
       "  </thead>\n",
       "  <tbody>\n",
       "    <tr>\n",
       "      <th>3</th>\n",
       "      <td>4</td>\n",
       "      <td>David El Fassi</td>\n",
       "      <td>Ingénieur Data</td>\n",
       "      <td>Casablanca</td>\n",
       "      <td>[Anglais, Français]</td>\n",
       "      <td>[Python, Java, SQL, BigQuery]</td>\n",
       "      <td>3</td>\n",
       "      <td>Bac +5</td>\n",
       "    </tr>\n",
       "  </tbody>\n",
       "</table>\n",
       "</div>\n",
       "    <div class=\"colab-df-buttons\">\n",
       "\n",
       "  <div class=\"colab-df-container\">\n",
       "    <button class=\"colab-df-convert\" onclick=\"convertToInteractive('df-4021fc4a-06ea-4a1c-aa03-d9d453269f80')\"\n",
       "            title=\"Convert this dataframe to an interactive table.\"\n",
       "            style=\"display:none;\">\n",
       "\n",
       "  <svg xmlns=\"http://www.w3.org/2000/svg\" height=\"24px\" viewBox=\"0 -960 960 960\">\n",
       "    <path d=\"M120-120v-720h720v720H120Zm60-500h600v-160H180v160Zm220 220h160v-160H400v160Zm0 220h160v-160H400v160ZM180-400h160v-160H180v160Zm440 0h160v-160H620v160ZM180-180h160v-160H180v160Zm440 0h160v-160H620v160Z\"/>\n",
       "  </svg>\n",
       "    </button>\n",
       "\n",
       "  <style>\n",
       "    .colab-df-container {\n",
       "      display:flex;\n",
       "      gap: 12px;\n",
       "    }\n",
       "\n",
       "    .colab-df-convert {\n",
       "      background-color: #E8F0FE;\n",
       "      border: none;\n",
       "      border-radius: 50%;\n",
       "      cursor: pointer;\n",
       "      display: none;\n",
       "      fill: #1967D2;\n",
       "      height: 32px;\n",
       "      padding: 0 0 0 0;\n",
       "      width: 32px;\n",
       "    }\n",
       "\n",
       "    .colab-df-convert:hover {\n",
       "      background-color: #E2EBFA;\n",
       "      box-shadow: 0px 1px 2px rgba(60, 64, 67, 0.3), 0px 1px 3px 1px rgba(60, 64, 67, 0.15);\n",
       "      fill: #174EA6;\n",
       "    }\n",
       "\n",
       "    .colab-df-buttons div {\n",
       "      margin-bottom: 4px;\n",
       "    }\n",
       "\n",
       "    [theme=dark] .colab-df-convert {\n",
       "      background-color: #3B4455;\n",
       "      fill: #D2E3FC;\n",
       "    }\n",
       "\n",
       "    [theme=dark] .colab-df-convert:hover {\n",
       "      background-color: #434B5C;\n",
       "      box-shadow: 0px 1px 3px 1px rgba(0, 0, 0, 0.15);\n",
       "      filter: drop-shadow(0px 1px 2px rgba(0, 0, 0, 0.3));\n",
       "      fill: #FFFFFF;\n",
       "    }\n",
       "  </style>\n",
       "\n",
       "    <script>\n",
       "      const buttonEl =\n",
       "        document.querySelector('#df-4021fc4a-06ea-4a1c-aa03-d9d453269f80 button.colab-df-convert');\n",
       "      buttonEl.style.display =\n",
       "        google.colab.kernel.accessAllowed ? 'block' : 'none';\n",
       "\n",
       "      async function convertToInteractive(key) {\n",
       "        const element = document.querySelector('#df-4021fc4a-06ea-4a1c-aa03-d9d453269f80');\n",
       "        const dataTable =\n",
       "          await google.colab.kernel.invokeFunction('convertToInteractive',\n",
       "                                                    [key], {});\n",
       "        if (!dataTable) return;\n",
       "\n",
       "        const docLinkHtml = 'Like what you see? Visit the ' +\n",
       "          '<a target=\"_blank\" href=https://colab.research.google.com/notebooks/data_table.ipynb>data table notebook</a>'\n",
       "          + ' to learn more about interactive tables.';\n",
       "        element.innerHTML = '';\n",
       "        dataTable['output_type'] = 'display_data';\n",
       "        await google.colab.output.renderOutput(dataTable, element);\n",
       "        const docLink = document.createElement('div');\n",
       "        docLink.innerHTML = docLinkHtml;\n",
       "        element.appendChild(docLink);\n",
       "      }\n",
       "    </script>\n",
       "  </div>\n",
       "\n",
       "\n",
       "    </div>\n",
       "  </div>\n"
      ],
      "application/vnd.google.colaboratory.intrinsic+json": {
       "type": "dataframe",
       "summary": "{\n  \"name\": \"PandasSearch(profiles_pd)\",\n  \"rows\": 1,\n  \"fields\": [\n    {\n      \"column\": \"id\",\n      \"properties\": {\n        \"dtype\": \"string\",\n        \"num_unique_values\": 1,\n        \"samples\": [\n          \"4\"\n        ],\n        \"semantic_type\": \"\",\n        \"description\": \"\"\n      }\n    },\n    {\n      \"column\": \"full_name\",\n      \"properties\": {\n        \"dtype\": \"string\",\n        \"num_unique_values\": 1,\n        \"samples\": [\n          \"David El Fassi\"\n        ],\n        \"semantic_type\": \"\",\n        \"description\": \"\"\n      }\n    },\n    {\n      \"column\": \"title\",\n      \"properties\": {\n        \"dtype\": \"string\",\n        \"num_unique_values\": 1,\n        \"samples\": [\n          \"Ing\\u00e9nieur Data\"\n        ],\n        \"semantic_type\": \"\",\n        \"description\": \"\"\n      }\n    },\n    {\n      \"column\": \"location\",\n      \"properties\": {\n        \"dtype\": \"string\",\n        \"num_unique_values\": 1,\n        \"samples\": [\n          \"Casablanca\"\n        ],\n        \"semantic_type\": \"\",\n        \"description\": \"\"\n      }\n    },\n    {\n      \"column\": \"spoken_languages\",\n      \"properties\": {\n        \"dtype\": \"object\",\n        \"semantic_type\": \"\",\n        \"description\": \"\"\n      }\n    },\n    {\n      \"column\": \"skills\",\n      \"properties\": {\n        \"dtype\": \"object\",\n        \"semantic_type\": \"\",\n        \"description\": \"\"\n      }\n    },\n    {\n      \"column\": \"experience_in_years\",\n      \"properties\": {\n        \"dtype\": \"number\",\n        \"std\": null,\n        \"min\": 3,\n        \"max\": 3,\n        \"num_unique_values\": 1,\n        \"samples\": [\n          3\n        ],\n        \"semantic_type\": \"\",\n        \"description\": \"\"\n      }\n    },\n    {\n      \"column\": \"level_of_study\",\n      \"properties\": {\n        \"dtype\": \"string\",\n        \"num_unique_values\": 1,\n        \"samples\": [\n          \"Bac +5\"\n        ],\n        \"semantic_type\": \"\",\n        \"description\": \"\"\n      }\n    }\n  ]\n}"
      }
     },
     "metadata": {},
     "execution_count": 40
    }
   ]
  },
  {
   "cell_type": "markdown",
   "source": [],
   "metadata": {
    "id": "PEdKVC02hlkq"
   }
  }
 ]
}
